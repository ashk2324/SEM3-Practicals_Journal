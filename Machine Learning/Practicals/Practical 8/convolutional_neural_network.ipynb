{
  "nbformat": 4,
  "nbformat_minor": 0,
  "metadata": {
    "colab": {
      "provenance": [],
      "collapsed_sections": []
    },
    "kernelspec": {
      "name": "python3",
      "display_name": "Python 3"
    }
  },
  "cells": [
    {
      "cell_type": "markdown",
      "metadata": {
        "id": "3DR-eO17geWu"
      },
      "source": [
        "# Convolutional Neural Network"
      ]
    },
    {
      "cell_type": "code",
      "source": [
        "from google.colab import drive\n",
        "drive.mount('/content/drive')"
      ],
      "metadata": {
        "colab": {
          "base_uri": "https://localhost:8080/"
        },
        "id": "pq1pLW0SnCsy",
        "outputId": "e992dbee-7430-415a-ae34-5107e79b2be0"
      },
      "execution_count": null,
      "outputs": [
        {
          "output_type": "stream",
          "name": "stdout",
          "text": [
            "Drive already mounted at /content/drive; to attempt to forcibly remount, call drive.mount(\"/content/drive\", force_remount=True).\n"
          ]
        }
      ]
    },
    {
      "cell_type": "code",
      "source": [
        "from google.colab import drive\n",
        "drive.mount('/content/drive')"
      ],
      "metadata": {
        "colab": {
          "base_uri": "https://localhost:8080/"
        },
        "id": "jiQ8Vf8Eos4I",
        "outputId": "98e46e6d-8f99-4b8b-e730-c791b66bb691"
      },
      "execution_count": null,
      "outputs": [
        {
          "output_type": "stream",
          "name": "stdout",
          "text": [
            "Drive already mounted at /content/drive; to attempt to forcibly remount, call drive.mount(\"/content/drive\", force_remount=True).\n"
          ]
        }
      ]
    },
    {
      "cell_type": "markdown",
      "metadata": {
        "id": "EMefrVPCg-60"
      },
      "source": [
        "### Importing the libraries"
      ]
    },
    {
      "cell_type": "code",
      "metadata": {
        "id": "sCV30xyVhFbE"
      },
      "source": [
        "import tensorflow as tf\n",
        "from keras.preprocessing.image import ImageDataGenerator"
      ],
      "execution_count": null,
      "outputs": []
    },
    {
      "cell_type": "code",
      "metadata": {
        "id": "FIleuCAjoFD8",
        "colab": {
          "base_uri": "https://localhost:8080/",
          "height": 36
        },
        "outputId": "8832fd2e-3614-4fe1-bf58-021df79451dc"
      },
      "source": [
        "tf.__version__"
      ],
      "execution_count": null,
      "outputs": [
        {
          "output_type": "execute_result",
          "data": {
            "text/plain": [
              "'2.8.2'"
            ],
            "application/vnd.google.colaboratory.intrinsic+json": {
              "type": "string"
            }
          },
          "metadata": {},
          "execution_count": 53
        }
      ]
    },
    {
      "cell_type": "markdown",
      "metadata": {
        "id": "oxQxCBWyoGPE"
      },
      "source": [
        "## Part 1 - Data Preprocessing"
      ]
    },
    {
      "cell_type": "markdown",
      "metadata": {
        "id": "MvE-heJNo3GG"
      },
      "source": [
        "### Preprocessing the Training set"
      ]
    },
    {
      "cell_type": "code",
      "metadata": {
        "id": "0koUcJMJpEBD",
        "colab": {
          "base_uri": "https://localhost:8080/"
        },
        "outputId": "19729a07-0c07-4deb-e30c-9ec88d8a556d"
      },
      "source": [
        "train_datagen = ImageDataGenerator(rescale = 1./255,\n",
        "                                   shear_range = 0.2,\n",
        "                                   zoom_range = 0.2,\n",
        "                                   horizontal_flip = True)\n",
        "training_set = train_datagen.flow_from_directory('/content/drive/MyDrive/small_dataset/training_set',\n",
        "                                                 target_size = (64, 64),\n",
        "                                                 batch_size = 32,\n",
        "                                                 class_mode = 'binary')"
      ],
      "execution_count": null,
      "outputs": [
        {
          "output_type": "stream",
          "name": "stdout",
          "text": [
            "Found 10 images belonging to 2 classes.\n"
          ]
        }
      ]
    },
    {
      "cell_type": "markdown",
      "metadata": {
        "id": "mrCMmGw9pHys"
      },
      "source": [
        "### Preprocessing the Test set"
      ]
    },
    {
      "cell_type": "code",
      "metadata": {
        "id": "SH4WzfOhpKc3",
        "colab": {
          "base_uri": "https://localhost:8080/"
        },
        "outputId": "c7e3afbe-f7f2-47b3-c1bc-ea25e293cb32"
      },
      "source": [
        "test_datagen = ImageDataGenerator(rescale = 1./255)\n",
        "test_set = test_datagen.flow_from_directory('/content/drive/MyDrive/small_dataset/test_set',\n",
        "                                            target_size = (64, 64),\n",
        "                                            batch_size = 32,\n",
        "                                            class_mode = 'binary')"
      ],
      "execution_count": null,
      "outputs": [
        {
          "output_type": "stream",
          "name": "stdout",
          "text": [
            "Found 10 images belonging to 2 classes.\n"
          ]
        }
      ]
    },
    {
      "cell_type": "markdown",
      "metadata": {
        "id": "af8O4l90gk7B"
      },
      "source": [
        "## Part 2 - Building the CNN"
      ]
    },
    {
      "cell_type": "markdown",
      "metadata": {
        "id": "ces1gXY2lmoX"
      },
      "source": [
        "### Initialising the CNN"
      ]
    },
    {
      "cell_type": "code",
      "metadata": {
        "id": "SAUt4UMPlhLS"
      },
      "source": [
        "cnn = tf.keras.models.Sequential()"
      ],
      "execution_count": null,
      "outputs": []
    },
    {
      "cell_type": "markdown",
      "metadata": {
        "id": "u5YJj_XMl5LF"
      },
      "source": [
        "### Step 1 - Convolution"
      ]
    },
    {
      "cell_type": "code",
      "metadata": {
        "id": "XPzPrMckl-hV"
      },
      "source": [
        "cnn.add(tf.keras.layers.Conv2D(filters=32, kernel_size=3, activation='relu', input_shape=[64, 64, 3]))"
      ],
      "execution_count": null,
      "outputs": []
    },
    {
      "cell_type": "markdown",
      "metadata": {
        "id": "tf87FpvxmNOJ"
      },
      "source": [
        "### Step 2 - Pooling"
      ]
    },
    {
      "cell_type": "code",
      "metadata": {
        "id": "ncpqPl69mOac"
      },
      "source": [
        "cnn.add(tf.keras.layers.MaxPool2D(pool_size=2, strides=2))"
      ],
      "execution_count": null,
      "outputs": []
    },
    {
      "cell_type": "markdown",
      "metadata": {
        "id": "xaTOgD8rm4mU"
      },
      "source": [
        "### Adding a second convolutional layer"
      ]
    },
    {
      "cell_type": "code",
      "metadata": {
        "id": "i_-FZjn_m8gk"
      },
      "source": [
        "cnn.add(tf.keras.layers.Conv2D(filters=32, kernel_size=3, activation='relu'))\n",
        "cnn.add(tf.keras.layers.MaxPool2D(pool_size=2, strides=2))"
      ],
      "execution_count": null,
      "outputs": []
    },
    {
      "cell_type": "markdown",
      "metadata": {
        "id": "tmiEuvTunKfk"
      },
      "source": [
        "### Step 3 - Flattening"
      ]
    },
    {
      "cell_type": "code",
      "metadata": {
        "id": "6AZeOGCvnNZn"
      },
      "source": [
        "cnn.add(tf.keras.layers.Flatten())"
      ],
      "execution_count": null,
      "outputs": []
    },
    {
      "cell_type": "markdown",
      "metadata": {
        "id": "dAoSECOm203v"
      },
      "source": [
        "### Step 4 - Full Connection"
      ]
    },
    {
      "cell_type": "code",
      "metadata": {
        "id": "8GtmUlLd26Nq"
      },
      "source": [
        "cnn.add(tf.keras.layers.Dense(units=128, activation='relu'))"
      ],
      "execution_count": null,
      "outputs": []
    },
    {
      "cell_type": "markdown",
      "metadata": {
        "id": "yTldFvbX28Na"
      },
      "source": [
        "### Step 5 - Output Layer"
      ]
    },
    {
      "cell_type": "code",
      "metadata": {
        "id": "1p_Zj1Mc3Ko_"
      },
      "source": [
        "cnn.add(tf.keras.layers.Dense(units=1, activation='sigmoid'))"
      ],
      "execution_count": null,
      "outputs": []
    },
    {
      "cell_type": "markdown",
      "metadata": {
        "id": "D6XkI90snSDl"
      },
      "source": [
        "## Part 3 - Training the CNN"
      ]
    },
    {
      "cell_type": "markdown",
      "metadata": {
        "id": "vfrFQACEnc6i"
      },
      "source": [
        "### Compiling the CNN"
      ]
    },
    {
      "cell_type": "code",
      "metadata": {
        "id": "NALksrNQpUlJ"
      },
      "source": [
        "cnn.compile(optimizer = 'adam', loss = 'binary_crossentropy', metrics = ['accuracy'])"
      ],
      "execution_count": null,
      "outputs": []
    },
    {
      "cell_type": "markdown",
      "metadata": {
        "id": "ehS-v3MIpX2h"
      },
      "source": [
        "### Training the CNN on the Training set and evaluating it on the Test set"
      ]
    },
    {
      "cell_type": "code",
      "metadata": {
        "id": "XUj1W4PJptta",
        "colab": {
          "base_uri": "https://localhost:8080/"
        },
        "outputId": "edf360c8-aa01-465c-e3ee-cd48a499e86c"
      },
      "source": [
        "cnn.fit(x = training_set, validation_data = test_set, epochs = 25)"
      ],
      "execution_count": null,
      "outputs": [
        {
          "output_type": "stream",
          "name": "stdout",
          "text": [
            "Epoch 1/25\n",
            "1/1 [==============================] - 1s 934ms/step - loss: 0.7246 - accuracy: 0.4000 - val_loss: 0.7920 - val_accuracy: 0.5000\n",
            "Epoch 2/25\n",
            "1/1 [==============================] - 0s 229ms/step - loss: 0.7281 - accuracy: 0.5000 - val_loss: 0.7271 - val_accuracy: 0.5000\n",
            "Epoch 3/25\n",
            "1/1 [==============================] - 0s 222ms/step - loss: 0.6568 - accuracy: 0.6000 - val_loss: 0.7269 - val_accuracy: 0.5000\n",
            "Epoch 4/25\n",
            "1/1 [==============================] - 0s 213ms/step - loss: 0.6452 - accuracy: 0.5000 - val_loss: 0.7172 - val_accuracy: 0.5000\n",
            "Epoch 5/25\n",
            "1/1 [==============================] - 0s 228ms/step - loss: 0.5689 - accuracy: 0.8000 - val_loss: 0.7447 - val_accuracy: 0.4000\n",
            "Epoch 6/25\n",
            "1/1 [==============================] - 0s 226ms/step - loss: 0.5701 - accuracy: 0.6000 - val_loss: 0.7406 - val_accuracy: 0.5000\n",
            "Epoch 7/25\n",
            "1/1 [==============================] - 0s 234ms/step - loss: 0.5449 - accuracy: 0.8000 - val_loss: 0.7385 - val_accuracy: 0.5000\n",
            "Epoch 8/25\n",
            "1/1 [==============================] - 0s 220ms/step - loss: 0.4541 - accuracy: 0.9000 - val_loss: 0.7731 - val_accuracy: 0.4000\n",
            "Epoch 9/25\n",
            "1/1 [==============================] - 0s 218ms/step - loss: 0.4460 - accuracy: 0.8000 - val_loss: 0.7975 - val_accuracy: 0.5000\n",
            "Epoch 10/25\n",
            "1/1 [==============================] - 0s 224ms/step - loss: 0.3654 - accuracy: 1.0000 - val_loss: 0.8175 - val_accuracy: 0.6000\n",
            "Epoch 11/25\n",
            "1/1 [==============================] - 0s 236ms/step - loss: 0.3933 - accuracy: 0.9000 - val_loss: 0.8707 - val_accuracy: 0.5000\n",
            "Epoch 12/25\n",
            "1/1 [==============================] - 0s 215ms/step - loss: 0.4002 - accuracy: 0.9000 - val_loss: 0.9042 - val_accuracy: 0.5000\n",
            "Epoch 13/25\n",
            "1/1 [==============================] - 0s 221ms/step - loss: 0.5023 - accuracy: 0.9000 - val_loss: 0.9373 - val_accuracy: 0.5000\n",
            "Epoch 14/25\n",
            "1/1 [==============================] - 0s 234ms/step - loss: 0.2692 - accuracy: 0.9000 - val_loss: 0.9786 - val_accuracy: 0.6000\n",
            "Epoch 15/25\n",
            "1/1 [==============================] - 0s 221ms/step - loss: 0.3952 - accuracy: 0.9000 - val_loss: 1.2138 - val_accuracy: 0.4000\n",
            "Epoch 16/25\n",
            "1/1 [==============================] - 0s 217ms/step - loss: 0.3336 - accuracy: 0.9000 - val_loss: 1.0521 - val_accuracy: 0.5000\n",
            "Epoch 17/25\n",
            "1/1 [==============================] - 0s 231ms/step - loss: 0.2912 - accuracy: 0.8000 - val_loss: 1.0981 - val_accuracy: 0.4000\n",
            "Epoch 18/25\n",
            "1/1 [==============================] - 0s 230ms/step - loss: 0.1544 - accuracy: 1.0000 - val_loss: 1.1207 - val_accuracy: 0.5000\n",
            "Epoch 19/25\n",
            "1/1 [==============================] - 0s 245ms/step - loss: 0.1662 - accuracy: 1.0000 - val_loss: 1.1777 - val_accuracy: 0.4000\n",
            "Epoch 20/25\n",
            "1/1 [==============================] - 0s 226ms/step - loss: 0.1377 - accuracy: 1.0000 - val_loss: 1.2739 - val_accuracy: 0.3000\n",
            "Epoch 21/25\n",
            "1/1 [==============================] - 0s 243ms/step - loss: 0.2088 - accuracy: 1.0000 - val_loss: 1.3273 - val_accuracy: 0.3000\n",
            "Epoch 22/25\n",
            "1/1 [==============================] - 0s 247ms/step - loss: 0.1718 - accuracy: 0.9000 - val_loss: 1.4546 - val_accuracy: 0.3000\n",
            "Epoch 23/25\n",
            "1/1 [==============================] - 0s 225ms/step - loss: 0.1036 - accuracy: 1.0000 - val_loss: 1.4069 - val_accuracy: 0.3000\n",
            "Epoch 24/25\n",
            "1/1 [==============================] - 0s 227ms/step - loss: 0.1003 - accuracy: 1.0000 - val_loss: 1.3965 - val_accuracy: 0.3000\n",
            "Epoch 25/25\n",
            "1/1 [==============================] - 0s 226ms/step - loss: 0.1049 - accuracy: 1.0000 - val_loss: 1.4388 - val_accuracy: 0.1000\n"
          ]
        },
        {
          "output_type": "execute_result",
          "data": {
            "text/plain": [
              "<keras.callbacks.History at 0x7f12d37bd250>"
            ]
          },
          "metadata": {},
          "execution_count": 64
        }
      ]
    },
    {
      "cell_type": "code",
      "metadata": {
        "id": "gsSiWEJY1BPB"
      },
      "source": [
        "import numpy as np\n",
        "from keras.preprocessing import image\n",
        "test_image = image.load_img('/content/drive/MyDrive/small_dataset/single_prediction/dog_looklike_cat.jpg', target_size = (64, 64))\n",
        "test_image = image.img_to_array(test_image)\n",
        "test_image = np.expand_dims(test_image, axis = 0)\n",
        "result = cnn.predict(test_image)\n",
        "training_set.class_indices\n",
        "if result[0][0] == 1:\n",
        "  prediction = 'dog'\n",
        "else:\n",
        "  prediction = 'cat'"
      ],
      "execution_count": null,
      "outputs": []
    },
    {
      "cell_type": "code",
      "metadata": {
        "id": "ED9KB3I54c1i",
        "colab": {
          "base_uri": "https://localhost:8080/"
        },
        "outputId": "aa9572b2-48fd-438f-a697-43cb6c74c391"
      },
      "source": [
        "print(prediction)"
      ],
      "execution_count": null,
      "outputs": [
        {
          "output_type": "stream",
          "name": "stdout",
          "text": [
            "dog\n"
          ]
        }
      ]
    }
  ]
}