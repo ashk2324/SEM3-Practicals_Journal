{
 "cells": [
  {
   "cell_type": "code",
   "execution_count": 1,
   "id": "08fc5e08",
   "metadata": {},
   "outputs": [],
   "source": [
    "from scipy.optimize import linprog\n",
    "obj = [-20, -12, -40, -25]\n",
    "lhs_ineq = [[1, 1, 1, 1],[3, 2, 1, 0],[0, 1, 2, 3]]\n",
    "rhs_ineq = [50, 100, 90]\n",
    "opt = linprog(c = obj, A_ub = lhs_ineq, b_ub = rhs_ineq, method = \"revised simplex\")"
   ]
  },
  {
   "cell_type": "code",
   "execution_count": 2,
   "id": "e25af213",
   "metadata": {},
   "outputs": [
    {
     "data": {
      "text/plain": [
       "     con: array([], dtype=float64)\n",
       "     fun: -1900.0\n",
       " message: 'Optimization terminated successfully.'\n",
       "     nit: 2\n",
       "   slack: array([ 0., 40.,  0.])\n",
       "  status: 0\n",
       " success: True\n",
       "       x: array([ 5.,  0., 45.,  0.])"
      ]
     },
     "execution_count": 2,
     "metadata": {},
     "output_type": "execute_result"
    }
   ],
   "source": [
    "opt"
   ]
  }
 ],
 "metadata": {
  "kernelspec": {
   "display_name": "Python 3 (ipykernel)",
   "language": "python",
   "name": "python3"
  },
  "language_info": {
   "codemirror_mode": {
    "name": "ipython",
    "version": 3
   },
   "file_extension": ".py",
   "mimetype": "text/x-python",
   "name": "python",
   "nbconvert_exporter": "python",
   "pygments_lexer": "ipython3",
   "version": "3.9.12"
  }
 },
 "nbformat": 4,
 "nbformat_minor": 5
}
