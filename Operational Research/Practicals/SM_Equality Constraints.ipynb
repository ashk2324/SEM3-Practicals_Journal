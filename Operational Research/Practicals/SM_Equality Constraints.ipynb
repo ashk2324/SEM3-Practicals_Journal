{
 "cells": [
  {
   "cell_type": "code",
   "execution_count": 1,
   "id": "d57828e0",
   "metadata": {},
   "outputs": [],
   "source": [
    "from scipy.optimize import linprog\n",
    "obj = [-1, -2]\n",
    "lhs_ineq = [[2, 1],[-4, 5],[1, -2]]\n",
    "rhs_ineq = [20, 10, 2]\n",
    "lhs_eq = [[-1, 5]]\n",
    "rhs_eq = [15]\n",
    "bnd = [(0,float(\"inf\")),(0,float(\"inf\"))]\n",
    "opt = linprog(c = obj, A_ub = lhs_ineq, b_ub = rhs_ineq, A_eq = lhs_eq, b_eq = rhs_eq, bounds = bnd, method = \"revised simplex\")"
   ]
  },
  {
   "cell_type": "code",
   "execution_count": 2,
   "id": "1a191269",
   "metadata": {},
   "outputs": [
    {
     "data": {
      "text/plain": [
       "     con: array([0.])\n",
       "     fun: -16.818181818181817\n",
       " message: 'Optimization terminated successfully.'\n",
       "     nit: 3\n",
       "   slack: array([ 0.        , 18.18181818,  3.36363636])\n",
       "  status: 0\n",
       " success: True\n",
       "       x: array([7.72727273, 4.54545455])"
      ]
     },
     "execution_count": 2,
     "metadata": {},
     "output_type": "execute_result"
    }
   ],
   "source": [
    "opt"
   ]
  }
 ],
 "metadata": {
  "kernelspec": {
   "display_name": "Python 3 (ipykernel)",
   "language": "python",
   "name": "python3"
  },
  "language_info": {
   "codemirror_mode": {
    "name": "ipython",
    "version": 3
   },
   "file_extension": ".py",
   "mimetype": "text/x-python",
   "name": "python",
   "nbconvert_exporter": "python",
   "pygments_lexer": "ipython3",
   "version": "3.9.12"
  }
 },
 "nbformat": 4,
 "nbformat_minor": 5
}
