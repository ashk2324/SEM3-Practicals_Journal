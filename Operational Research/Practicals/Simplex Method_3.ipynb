{
 "cells": [
  {
   "cell_type": "code",
   "execution_count": 2,
   "id": "8ed646ac",
   "metadata": {},
   "outputs": [],
   "source": [
    "from scipy.optimize import linprog\n",
    "obj = [1, -3, 2]\n",
    "lhs_ineq = [[3, -1, 3],[-2, 4, 0], [-4, 3, 8]]\n",
    "rhs_ineq = [7, 12, 10]\n",
    "bnd = [(0,float(\"inf\")),(0,float(\"inf\")),(0,float(\"inf\"))]\n",
    "opt = linprog(c = obj, A_ub = lhs_ineq, b_ub = rhs_ineq, bounds = bnd, method = \"revised simplex\")"
   ]
  },
  {
   "cell_type": "code",
   "execution_count": 3,
   "id": "3ca3c357",
   "metadata": {},
   "outputs": [
    {
     "data": {
      "text/plain": [
       "     con: array([], dtype=float64)\n",
       "     fun: -11.0\n",
       " message: 'Optimization terminated successfully.'\n",
       "     nit: 2\n",
       "   slack: array([ 0.,  0., 11.])\n",
       "  status: 0\n",
       " success: True\n",
       "       x: array([4., 5., 0.])"
      ]
     },
     "execution_count": 3,
     "metadata": {},
     "output_type": "execute_result"
    }
   ],
   "source": [
    "opt"
   ]
  }
 ],
 "metadata": {
  "kernelspec": {
   "display_name": "Python 3 (ipykernel)",
   "language": "python",
   "name": "python3"
  },
  "language_info": {
   "codemirror_mode": {
    "name": "ipython",
    "version": 3
   },
   "file_extension": ".py",
   "mimetype": "text/x-python",
   "name": "python",
   "nbconvert_exporter": "python",
   "pygments_lexer": "ipython3",
   "version": "3.9.12"
  }
 },
 "nbformat": 4,
 "nbformat_minor": 5
}
