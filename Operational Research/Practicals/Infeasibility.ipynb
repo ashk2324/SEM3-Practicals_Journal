{
 "cells": [
  {
   "cell_type": "code",
   "execution_count": 1,
   "id": "605a11ec",
   "metadata": {},
   "outputs": [],
   "source": [
    "from scipy.optimize import linprog\n",
    "obj = [-200, 300]\n",
    "lhs_ineq = [[-2, -3],[1, 1],[-2,-1.5]]\n",
    "rhs_ineq = [-1200, 400, -900]\n",
    "bnd = [(0,float(\"inf\")),(0,float(\"inf\"))]\n",
    "opt = linprog(c = obj, A_ub = lhs_ineq, b_ub = rhs_ineq, bounds = bnd, method = \"revised simplex\")"
   ]
  },
  {
   "cell_type": "code",
   "execution_count": 2,
   "id": "969bd69a",
   "metadata": {},
   "outputs": [
    {
     "data": {
      "text/plain": [
       "     con: array([], dtype=float64)\n",
       "     fun: 120000.0\n",
       " message: 'The problem appears infeasible, as the phase one auxiliary problem terminated successfully with a residual of 3.0e+02, greater than the tolerance 1e-12 required for the solution to be considered feasible. Consider increasing the tolerance to be greater than 3.0e+02. If this tolerance is unnaceptably large, the problem is likely infeasible.'\n",
       "     nit: 1\n",
       "   slack: array([   0.,    0., -300.])\n",
       "  status: 2\n",
       " success: False\n",
       "       x: array([  0., 400.])"
      ]
     },
     "execution_count": 2,
     "metadata": {},
     "output_type": "execute_result"
    }
   ],
   "source": [
    "opt"
   ]
  }
 ],
 "metadata": {
  "kernelspec": {
   "display_name": "Python 3 (ipykernel)",
   "language": "python",
   "name": "python3"
  },
  "language_info": {
   "codemirror_mode": {
    "name": "ipython",
    "version": 3
   },
   "file_extension": ".py",
   "mimetype": "text/x-python",
   "name": "python",
   "nbconvert_exporter": "python",
   "pygments_lexer": "ipython3",
   "version": "3.9.12"
  }
 },
 "nbformat": 4,
 "nbformat_minor": 5
}
